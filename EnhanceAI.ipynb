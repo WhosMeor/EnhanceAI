{
  "metadata": {
    "kernelspec": {
      "display_name": "Python 3",
      "name": "python3"
    },
    "language_info": {
      "name": "python",
      "version": "3.10.13",
      "mimetype": "text/x-python",
      "codemirror_mode": {
        "name": "ipython",
        "version": 3
      },
      "pygments_lexer": "ipython3",
      "nbconvert_exporter": "python",
      "file_extension": ".py"
    },
    "kaggle": {
      "accelerator": "nvidiaTeslaT4",
      "dataSources": [],
      "dockerImageVersionId": 30733,
      "isInternetEnabled": true,
      "language": "python",
      "sourceType": "notebook",
      "isGpuEnabled": true
    },
    "colab": {
      "name": "EnhanceAI",
      "provenance": [],
      "gpuType": "T4",
      "include_colab_link": true
    },
    "accelerator": "GPU"
  },
  "nbformat_minor": 0,
  "nbformat": 4,
  "cells": [
    {
      "cell_type": "markdown",
      "metadata": {
        "id": "view-in-github",
        "colab_type": "text"
      },
      "source": [
        "<a href=\"https://colab.research.google.com/github/WhosMeor/EnhanceAI/blob/main/EnhanceAI.ipynb\" target=\"_parent\"><img src=\"https://colab.research.google.com/assets/colab-badge.svg\" alt=\"Open In Colab\"/></a>"
      ]
    },
    {
      "cell_type": "markdown",
      "source": [
        "# Image Enhancement Web App (EnhanceAI)\n",
        "\n",
        "[![GitHub Stars](https://img.shields.io/github/stars/WhosMeor/EnhanceAI?style=social)](https://github.com/WhosMeor/EnhanceAI)\n",
        "[![download](https://img.shields.io/github/downloads/WhosMeor/EnhanceAI/total.svg)](https://github.com/WhosMeor/EnhanceAI/releases)\n",
        "\n",
        "This is an **Image Enhancement Web App** developed for my Final Year Project.\n",
        "We use the powerful Real-ESRGAN to a easy to use web application (namely, EnhanceAI). <br>\n",
        "The following figure shows the Enhancement page for the web app.\n",
        "\n",
        "<img src=\"https://raw.githubusercontent.com/WhosMeor/EnhanceAI/main/assets/EnhancementPage.PNG\" width=\"100%\">\n",
        "\n",
        "\n",
        "**Note that the Web App is still in development may discover bugs in the process.**<br>\n",
        "Moreover, the **performance depends on the machine that operate the web app**, which need GPU accelerator to perform well.\n",
        "<br>\n",
        "<br>\n",
        "Please take a few minutes to complete this survey. Your feedback is valuable to help us improve our app and provide a better user experience. Thank you for your participation!  [Image Enhancement Web App (EnhanceAI) Survey](https://forms.gle/RMvGaDG1CzDaeJzm8)."
      ],
      "metadata": {
        "id": "EHcXYT-vvt5o"
      }
    },
    {
      "cell_type": "markdown",
      "source": [
        "# 1. Preparations\n",
        "Before start, make sure that you choose\n",
        "* Runtime Type = Python 3\n",
        "* Hardware Accelerator = GPU\n",
        "\n",
        "in the **Runtime** menu -> **Change runtime type**\n",
        "\n",
        "Then, we clone the repository, set up the envrironment.\n",
        "\n",
        "# 2. Run the codes\n",
        "\n",
        "# **Press CTRL+F9**\n",
        "  * Or in the **Runtime** menu -> **Run All**"
      ],
      "metadata": {
        "id": "7d82CwZv2Ez3"
      }
    },
    {
      "cell_type": "code",
      "source": [
        "#@title Git Clone Repo\n",
        "!git clone https://github.com/WhosMeor/EnhanceAI"
      ],
      "metadata": {
        "_uuid": "8f2839f25d086af736a60e9eeb907d3b93b6e0e5",
        "_cell_guid": "b1076dfc-b9ad-4769-8c92-a6c4dae69d19",
        "_kg_hide-input": true,
        "_kg_hide-output": true,
        "execution": {
          "iopub.status.busy": "2024-06-23T07:43:12.930645Z",
          "iopub.execute_input": "2024-06-23T07:43:12.931043Z",
          "iopub.status.idle": "2024-06-23T07:43:16.522153Z",
          "shell.execute_reply.started": "2024-06-23T07:43:12.931009Z",
          "shell.execute_reply": "2024-06-23T07:43:16.521045Z"
        },
        "trusted": true,
        "id": "kYNuIQnQSlEO",
        "collapsed": true,
        "cellView": "form",
        "outputId": "88f6e46e-d819-4f62-8dc2-24ecb34e8bb9",
        "colab": {
          "base_uri": "https://localhost:8080/"
        }
      },
      "execution_count": 4,
      "outputs": [
        {
          "output_type": "stream",
          "name": "stdout",
          "text": [
            "Cloning into 'EnhanceAI'...\n",
            "remote: Enumerating objects: 149, done.\u001b[K\n",
            "remote: Counting objects: 100% (149/149), done.\u001b[K\n",
            "remote: Compressing objects: 100% (144/144), done.\u001b[K\n",
            "remote: Total 149 (delta 50), reused 0 (delta 0), pack-reused 0\u001b[K\n",
            "Receiving objects: 100% (149/149), 22.97 MiB | 9.92 MiB/s, done.\n",
            "Resolving deltas: 100% (50/50), done.\n"
          ]
        }
      ]
    },
    {
      "cell_type": "markdown",
      "source": [
        "# 3. Download Dependencies\n",
        "\n",
        "This process may take some time depends on the internet speed."
      ],
      "metadata": {
        "id": "uLPge3HV3KwQ"
      }
    },
    {
      "cell_type": "code",
      "source": [
        "#@title Installing Dependencies\n",
        "%cd EnhanceAI\n",
        "!pip install -r requirements.txt"
      ],
      "metadata": {
        "_kg_hide-output": true,
        "_kg_hide-input": true,
        "execution": {
          "iopub.status.busy": "2024-06-23T07:43:16.524042Z",
          "iopub.execute_input": "2024-06-23T07:43:16.524354Z",
          "iopub.status.idle": "2024-06-23T07:43:47.358938Z",
          "shell.execute_reply.started": "2024-06-23T07:43:16.524325Z",
          "shell.execute_reply": "2024-06-23T07:43:47.35774Z"
        },
        "trusted": true,
        "id": "mCxH-b48SlER",
        "collapsed": true,
        "cellView": "form",
        "outputId": "22ba5e90-697d-407a-e53f-1116af475e65",
        "colab": {
          "base_uri": "https://localhost:8080/"
        }
      },
      "execution_count": 5,
      "outputs": [
        {
          "output_type": "stream",
          "name": "stdout",
          "text": [
            "/content/EnhanceAI/EnhanceAI\n",
            "Requirement already satisfied: facexlib>=0.2.5 in /usr/local/lib/python3.10/dist-packages (from -r requirements.txt (line 1)) (0.3.0)\n",
            "Requirement already satisfied: numpy in /usr/local/lib/python3.10/dist-packages (from -r requirements.txt (line 2)) (1.25.2)\n",
            "Requirement already satisfied: opencv-python in /usr/local/lib/python3.10/dist-packages (from -r requirements.txt (line 3)) (4.8.0.76)\n",
            "Requirement already satisfied: Pillow in /usr/local/lib/python3.10/dist-packages (from -r requirements.txt (line 4)) (9.4.0)\n",
            "Requirement already satisfied: torch>=1.7 in /usr/local/lib/python3.10/dist-packages (from -r requirements.txt (line 5)) (2.3.0+cu121)\n",
            "Requirement already satisfied: torchvision in /usr/local/lib/python3.10/dist-packages (from -r requirements.txt (line 6)) (0.18.0+cu121)\n",
            "Requirement already satisfied: tqdm in /usr/local/lib/python3.10/dist-packages (from -r requirements.txt (line 7)) (4.66.4)\n",
            "Requirement already satisfied: streamlit in /usr/local/lib/python3.10/dist-packages (from -r requirements.txt (line 8)) (1.36.0)\n",
            "Requirement already satisfied: new-gfpgan==1.0.1 in /usr/local/lib/python3.10/dist-packages (from -r requirements.txt (line 10)) (1.0.1)\n",
            "Requirement already satisfied: MY-basicsr==1.4.2 in /usr/local/lib/python3.10/dist-packages (from -r requirements.txt (line 11)) (1.4.2)\n",
            "Requirement already satisfied: pyrebase4 in /usr/local/lib/python3.10/dist-packages (from -r requirements.txt (line 12)) (4.8.0)\n",
            "Requirement already satisfied: streamlit-extras in /usr/local/lib/python3.10/dist-packages (from -r requirements.txt (line 13)) (0.4.3)\n",
            "Requirement already satisfied: streamlit-image-comparison in /usr/local/lib/python3.10/dist-packages (from -r requirements.txt (line 14)) (0.0.4)\n",
            "Requirement already satisfied: streamlit-option-menu in /usr/local/lib/python3.10/dist-packages (from -r requirements.txt (line 15)) (0.3.13)\n",
            "Requirement already satisfied: pyngrok in /usr/local/lib/python3.10/dist-packages (from -r requirements.txt (line 16)) (7.1.6)\n",
            "Requirement already satisfied: new-basicsr>=1.0.0 in /usr/local/lib/python3.10/dist-packages (from new-gfpgan==1.0.1->-r requirements.txt (line 10)) (1.0.0)\n",
            "Requirement already satisfied: lmdb in /usr/local/lib/python3.10/dist-packages (from new-gfpgan==1.0.1->-r requirements.txt (line 10)) (1.4.1)\n",
            "Requirement already satisfied: pyyaml in /usr/local/lib/python3.10/dist-packages (from new-gfpgan==1.0.1->-r requirements.txt (line 10)) (6.0.1)\n",
            "Requirement already satisfied: scipy in /usr/local/lib/python3.10/dist-packages (from new-gfpgan==1.0.1->-r requirements.txt (line 10)) (1.11.4)\n",
            "Requirement already satisfied: tb-nightly in /usr/local/lib/python3.10/dist-packages (from new-gfpgan==1.0.1->-r requirements.txt (line 10)) (2.18.0a20240616)\n",
            "Requirement already satisfied: yapf in /usr/local/lib/python3.10/dist-packages (from new-gfpgan==1.0.1->-r requirements.txt (line 10)) (0.40.2)\n",
            "Requirement already satisfied: addict in /usr/local/lib/python3.10/dist-packages (from MY-basicsr==1.4.2->-r requirements.txt (line 11)) (2.4.0)\n",
            "Requirement already satisfied: future in /usr/local/lib/python3.10/dist-packages (from MY-basicsr==1.4.2->-r requirements.txt (line 11)) (0.18.3)\n",
            "Requirement already satisfied: requests in /usr/local/lib/python3.10/dist-packages (from MY-basicsr==1.4.2->-r requirements.txt (line 11)) (2.31.0)\n",
            "Requirement already satisfied: scikit-image in /usr/local/lib/python3.10/dist-packages (from MY-basicsr==1.4.2->-r requirements.txt (line 11)) (0.19.3)\n",
            "Requirement already satisfied: filterpy in /usr/local/lib/python3.10/dist-packages (from facexlib>=0.2.5->-r requirements.txt (line 1)) (1.4.5)\n",
            "Requirement already satisfied: numba in /usr/local/lib/python3.10/dist-packages (from facexlib>=0.2.5->-r requirements.txt (line 1)) (0.58.1)\n",
            "Requirement already satisfied: filelock in /usr/local/lib/python3.10/dist-packages (from torch>=1.7->-r requirements.txt (line 5)) (3.15.1)\n",
            "Requirement already satisfied: typing-extensions>=4.8.0 in /usr/local/lib/python3.10/dist-packages (from torch>=1.7->-r requirements.txt (line 5)) (4.12.2)\n",
            "Requirement already satisfied: sympy in /usr/local/lib/python3.10/dist-packages (from torch>=1.7->-r requirements.txt (line 5)) (1.12.1)\n",
            "Requirement already satisfied: networkx in /usr/local/lib/python3.10/dist-packages (from torch>=1.7->-r requirements.txt (line 5)) (3.3)\n",
            "Requirement already satisfied: jinja2 in /usr/local/lib/python3.10/dist-packages (from torch>=1.7->-r requirements.txt (line 5)) (3.1.4)\n",
            "Requirement already satisfied: fsspec in /usr/local/lib/python3.10/dist-packages (from torch>=1.7->-r requirements.txt (line 5)) (2023.6.0)\n",
            "Requirement already satisfied: nvidia-cuda-nvrtc-cu12==12.1.105 in /usr/local/lib/python3.10/dist-packages (from torch>=1.7->-r requirements.txt (line 5)) (12.1.105)\n",
            "Requirement already satisfied: nvidia-cuda-runtime-cu12==12.1.105 in /usr/local/lib/python3.10/dist-packages (from torch>=1.7->-r requirements.txt (line 5)) (12.1.105)\n",
            "Requirement already satisfied: nvidia-cuda-cupti-cu12==12.1.105 in /usr/local/lib/python3.10/dist-packages (from torch>=1.7->-r requirements.txt (line 5)) (12.1.105)\n",
            "Requirement already satisfied: nvidia-cudnn-cu12==8.9.2.26 in /usr/local/lib/python3.10/dist-packages (from torch>=1.7->-r requirements.txt (line 5)) (8.9.2.26)\n",
            "Requirement already satisfied: nvidia-cublas-cu12==12.1.3.1 in /usr/local/lib/python3.10/dist-packages (from torch>=1.7->-r requirements.txt (line 5)) (12.1.3.1)\n",
            "Requirement already satisfied: nvidia-cufft-cu12==11.0.2.54 in /usr/local/lib/python3.10/dist-packages (from torch>=1.7->-r requirements.txt (line 5)) (11.0.2.54)\n",
            "Requirement already satisfied: nvidia-curand-cu12==10.3.2.106 in /usr/local/lib/python3.10/dist-packages (from torch>=1.7->-r requirements.txt (line 5)) (10.3.2.106)\n",
            "Requirement already satisfied: nvidia-cusolver-cu12==11.4.5.107 in /usr/local/lib/python3.10/dist-packages (from torch>=1.7->-r requirements.txt (line 5)) (11.4.5.107)\n",
            "Requirement already satisfied: nvidia-cusparse-cu12==12.1.0.106 in /usr/local/lib/python3.10/dist-packages (from torch>=1.7->-r requirements.txt (line 5)) (12.1.0.106)\n",
            "Requirement already satisfied: nvidia-nccl-cu12==2.20.5 in /usr/local/lib/python3.10/dist-packages (from torch>=1.7->-r requirements.txt (line 5)) (2.20.5)\n",
            "Requirement already satisfied: nvidia-nvtx-cu12==12.1.105 in /usr/local/lib/python3.10/dist-packages (from torch>=1.7->-r requirements.txt (line 5)) (12.1.105)\n",
            "Requirement already satisfied: triton==2.3.0 in /usr/local/lib/python3.10/dist-packages (from torch>=1.7->-r requirements.txt (line 5)) (2.3.0)\n",
            "Requirement already satisfied: nvidia-nvjitlink-cu12 in /usr/local/lib/python3.10/dist-packages (from nvidia-cusolver-cu12==11.4.5.107->torch>=1.7->-r requirements.txt (line 5)) (12.5.40)\n",
            "Requirement already satisfied: altair<6,>=4.0 in /usr/local/lib/python3.10/dist-packages (from streamlit->-r requirements.txt (line 8)) (4.2.2)\n",
            "Requirement already satisfied: blinker<2,>=1.0.0 in /usr/lib/python3/dist-packages (from streamlit->-r requirements.txt (line 8)) (1.4)\n",
            "Requirement already satisfied: cachetools<6,>=4.0 in /usr/local/lib/python3.10/dist-packages (from streamlit->-r requirements.txt (line 8)) (5.3.3)\n",
            "Requirement already satisfied: click<9,>=7.0 in /usr/local/lib/python3.10/dist-packages (from streamlit->-r requirements.txt (line 8)) (8.1.7)\n",
            "Requirement already satisfied: packaging<25,>=20 in /usr/local/lib/python3.10/dist-packages (from streamlit->-r requirements.txt (line 8)) (24.1)\n",
            "Requirement already satisfied: pandas<3,>=1.3.0 in /usr/local/lib/python3.10/dist-packages (from streamlit->-r requirements.txt (line 8)) (2.0.3)\n",
            "Requirement already satisfied: protobuf<6,>=3.20 in /usr/local/lib/python3.10/dist-packages (from streamlit->-r requirements.txt (line 8)) (3.20.3)\n",
            "Requirement already satisfied: pyarrow>=7.0 in /usr/local/lib/python3.10/dist-packages (from streamlit->-r requirements.txt (line 8)) (14.0.2)\n",
            "Requirement already satisfied: rich<14,>=10.14.0 in /usr/local/lib/python3.10/dist-packages (from streamlit->-r requirements.txt (line 8)) (13.7.1)\n",
            "Requirement already satisfied: tenacity<9,>=8.1.0 in /usr/local/lib/python3.10/dist-packages (from streamlit->-r requirements.txt (line 8)) (8.4.1)\n",
            "Requirement already satisfied: toml<2,>=0.10.1 in /usr/local/lib/python3.10/dist-packages (from streamlit->-r requirements.txt (line 8)) (0.10.2)\n",
            "Requirement already satisfied: gitpython!=3.1.19,<4,>=3.0.7 in /usr/local/lib/python3.10/dist-packages (from streamlit->-r requirements.txt (line 8)) (3.1.43)\n",
            "Requirement already satisfied: pydeck<1,>=0.8.0b4 in /usr/local/lib/python3.10/dist-packages (from streamlit->-r requirements.txt (line 8)) (0.9.1)\n",
            "Requirement already satisfied: tornado<7,>=6.0.3 in /usr/local/lib/python3.10/dist-packages (from streamlit->-r requirements.txt (line 8)) (6.3.3)\n",
            "Requirement already satisfied: watchdog<5,>=2.1.5 in /usr/local/lib/python3.10/dist-packages (from streamlit->-r requirements.txt (line 8)) (4.0.1)\n",
            "Requirement already satisfied: requests-toolbelt<1.0,>=0.7.1 in /usr/local/lib/python3.10/dist-packages (from pyrebase4->-r requirements.txt (line 12)) (0.10.1)\n",
            "Requirement already satisfied: urllib3<2,>=1.21.1 in /usr/local/lib/python3.10/dist-packages (from pyrebase4->-r requirements.txt (line 12)) (1.26.19)\n",
            "Requirement already satisfied: gcloud>=0.18.3 in /usr/local/lib/python3.10/dist-packages (from pyrebase4->-r requirements.txt (line 12)) (0.18.3)\n",
            "Requirement already satisfied: oauth2client>=4.1.2 in /usr/local/lib/python3.10/dist-packages (from pyrebase4->-r requirements.txt (line 12)) (4.1.3)\n",
            "Requirement already satisfied: python-jwt>=2.0.1 in /usr/local/lib/python3.10/dist-packages (from pyrebase4->-r requirements.txt (line 12)) (4.1.0)\n",
            "Requirement already satisfied: pycryptodome>=3.6.4 in /usr/local/lib/python3.10/dist-packages (from pyrebase4->-r requirements.txt (line 12)) (3.20.0)\n",
            "Requirement already satisfied: entrypoints>=0.4 in /usr/local/lib/python3.10/dist-packages (from streamlit-extras->-r requirements.txt (line 13)) (0.4)\n",
            "Requirement already satisfied: htbuilder>=0.6.2 in /usr/local/lib/python3.10/dist-packages (from streamlit-extras->-r requirements.txt (line 13)) (0.6.2)\n",
            "Requirement already satisfied: markdownlit>=0.0.5 in /usr/local/lib/python3.10/dist-packages (from streamlit-extras->-r requirements.txt (line 13)) (0.0.7)\n",
            "Requirement already satisfied: prometheus-client>=0.14.0 in /usr/local/lib/python3.10/dist-packages (from streamlit-extras->-r requirements.txt (line 13)) (0.20.0)\n",
            "Requirement already satisfied: st-annotated-text>=3.0.0 in /usr/local/lib/python3.10/dist-packages (from streamlit-extras->-r requirements.txt (line 13)) (4.0.1)\n",
            "Requirement already satisfied: st-theme>=1.0.1 in /usr/local/lib/python3.10/dist-packages (from streamlit-extras->-r requirements.txt (line 13)) (1.2.3)\n",
            "Requirement already satisfied: streamlit-camera-input-live>=0.2.0 in /usr/local/lib/python3.10/dist-packages (from streamlit-extras->-r requirements.txt (line 13)) (0.2.0)\n",
            "Requirement already satisfied: streamlit-card>=0.0.4 in /usr/local/lib/python3.10/dist-packages (from streamlit-extras->-r requirements.txt (line 13)) (1.0.2)\n",
            "Requirement already satisfied: streamlit-embedcode>=0.1.2 in /usr/local/lib/python3.10/dist-packages (from streamlit-extras->-r requirements.txt (line 13)) (0.1.2)\n",
            "Requirement already satisfied: streamlit-faker>=0.0.2 in /usr/local/lib/python3.10/dist-packages (from streamlit-extras->-r requirements.txt (line 13)) (0.0.3)\n",
            "Requirement already satisfied: streamlit-image-coordinates<0.2.0,>=0.1.1 in /usr/local/lib/python3.10/dist-packages (from streamlit-extras->-r requirements.txt (line 13)) (0.1.9)\n",
            "Requirement already satisfied: streamlit-keyup>=0.1.9 in /usr/local/lib/python3.10/dist-packages (from streamlit-extras->-r requirements.txt (line 13)) (0.2.4)\n",
            "Requirement already satisfied: streamlit-toggle-switch>=1.0.2 in /usr/local/lib/python3.10/dist-packages (from streamlit-extras->-r requirements.txt (line 13)) (1.0.2)\n",
            "Requirement already satisfied: streamlit-vertical-slider>=2.5.5 in /usr/local/lib/python3.10/dist-packages (from streamlit-extras->-r requirements.txt (line 13)) (2.5.5)\n",
            "Requirement already satisfied: validators>=0.20.0 in /usr/local/lib/python3.10/dist-packages (from streamlit-extras->-r requirements.txt (line 13)) (0.28.3)\n",
            "Requirement already satisfied: jsonschema>=3.0 in /usr/local/lib/python3.10/dist-packages (from altair<6,>=4.0->streamlit->-r requirements.txt (line 8)) (4.19.2)\n",
            "Requirement already satisfied: toolz in /usr/local/lib/python3.10/dist-packages (from altair<6,>=4.0->streamlit->-r requirements.txt (line 8)) (0.12.1)\n",
            "Requirement already satisfied: httplib2>=0.9.1 in /usr/local/lib/python3.10/dist-packages (from gcloud>=0.18.3->pyrebase4->-r requirements.txt (line 12)) (0.22.0)\n",
            "Requirement already satisfied: googleapis-common-protos in /usr/local/lib/python3.10/dist-packages (from gcloud>=0.18.3->pyrebase4->-r requirements.txt (line 12)) (1.63.1)\n",
            "Requirement already satisfied: six in /usr/local/lib/python3.10/dist-packages (from gcloud>=0.18.3->pyrebase4->-r requirements.txt (line 12)) (1.16.0)\n",
            "Requirement already satisfied: gitdb<5,>=4.0.1 in /usr/local/lib/python3.10/dist-packages (from gitpython!=3.1.19,<4,>=3.0.7->streamlit->-r requirements.txt (line 8)) (4.0.11)\n",
            "Requirement already satisfied: more-itertools in /usr/local/lib/python3.10/dist-packages (from htbuilder>=0.6.2->streamlit-extras->-r requirements.txt (line 13)) (10.1.0)\n",
            "Requirement already satisfied: markdown in /usr/local/lib/python3.10/dist-packages (from markdownlit>=0.0.5->streamlit-extras->-r requirements.txt (line 13)) (3.6)\n",
            "Requirement already satisfied: lxml in /usr/local/lib/python3.10/dist-packages (from markdownlit>=0.0.5->streamlit-extras->-r requirements.txt (line 13)) (4.9.4)\n",
            "Requirement already satisfied: favicon in /usr/local/lib/python3.10/dist-packages (from markdownlit>=0.0.5->streamlit-extras->-r requirements.txt (line 13)) (0.7.0)\n",
            "Requirement already satisfied: pymdown-extensions in /usr/local/lib/python3.10/dist-packages (from markdownlit>=0.0.5->streamlit-extras->-r requirements.txt (line 13)) (10.8.1)\n",
            "Requirement already satisfied: pyasn1>=0.1.7 in /usr/local/lib/python3.10/dist-packages (from oauth2client>=4.1.2->pyrebase4->-r requirements.txt (line 12)) (0.6.0)\n",
            "Requirement already satisfied: pyasn1-modules>=0.0.5 in /usr/local/lib/python3.10/dist-packages (from oauth2client>=4.1.2->pyrebase4->-r requirements.txt (line 12)) (0.4.0)\n",
            "Requirement already satisfied: rsa>=3.1.4 in /usr/local/lib/python3.10/dist-packages (from oauth2client>=4.1.2->pyrebase4->-r requirements.txt (line 12)) (4.9)\n",
            "Requirement already satisfied: python-dateutil>=2.8.2 in /usr/local/lib/python3.10/dist-packages (from pandas<3,>=1.3.0->streamlit->-r requirements.txt (line 8)) (2.8.2)\n",
            "Requirement already satisfied: pytz>=2020.1 in /usr/local/lib/python3.10/dist-packages (from pandas<3,>=1.3.0->streamlit->-r requirements.txt (line 8)) (2023.4)\n",
            "Requirement already satisfied: tzdata>=2022.1 in /usr/local/lib/python3.10/dist-packages (from pandas<3,>=1.3.0->streamlit->-r requirements.txt (line 8)) (2024.1)\n",
            "Requirement already satisfied: MarkupSafe>=2.0 in /usr/local/lib/python3.10/dist-packages (from jinja2->torch>=1.7->-r requirements.txt (line 5)) (2.1.5)\n",
            "Requirement already satisfied: jwcrypto>=1.4.2 in /usr/local/lib/python3.10/dist-packages (from python-jwt>=2.0.1->pyrebase4->-r requirements.txt (line 12)) (1.5.6)\n",
            "Requirement already satisfied: charset-normalizer<4,>=2 in /usr/local/lib/python3.10/dist-packages (from requests->MY-basicsr==1.4.2->-r requirements.txt (line 11)) (3.3.2)\n",
            "Requirement already satisfied: idna<4,>=2.5 in /usr/local/lib/python3.10/dist-packages (from requests->MY-basicsr==1.4.2->-r requirements.txt (line 11)) (3.7)\n",
            "Requirement already satisfied: certifi>=2017.4.17 in /usr/local/lib/python3.10/dist-packages (from requests->MY-basicsr==1.4.2->-r requirements.txt (line 11)) (2024.6.2)\n",
            "Requirement already satisfied: markdown-it-py>=2.2.0 in /usr/local/lib/python3.10/dist-packages (from rich<14,>=10.14.0->streamlit->-r requirements.txt (line 8)) (3.0.0)\n",
            "Requirement already satisfied: pygments<3.0.0,>=2.13.0 in /usr/local/lib/python3.10/dist-packages (from rich<14,>=10.14.0->streamlit->-r requirements.txt (line 8)) (2.16.1)\n",
            "Requirement already satisfied: faker in /usr/local/lib/python3.10/dist-packages (from streamlit-faker>=0.0.2->streamlit-extras->-r requirements.txt (line 13)) (25.9.1)\n",
            "Requirement already satisfied: matplotlib in /usr/local/lib/python3.10/dist-packages (from streamlit-faker>=0.0.2->streamlit-extras->-r requirements.txt (line 13)) (3.7.1)\n",
            "Requirement already satisfied: llvmlite<0.42,>=0.41.0dev0 in /usr/local/lib/python3.10/dist-packages (from numba->facexlib>=0.2.5->-r requirements.txt (line 1)) (0.41.1)\n",
            "Requirement already satisfied: imageio>=2.4.1 in /usr/local/lib/python3.10/dist-packages (from scikit-image->MY-basicsr==1.4.2->-r requirements.txt (line 11)) (2.31.6)\n",
            "Requirement already satisfied: tifffile>=2019.7.26 in /usr/local/lib/python3.10/dist-packages (from scikit-image->MY-basicsr==1.4.2->-r requirements.txt (line 11)) (2024.5.22)\n",
            "Requirement already satisfied: PyWavelets>=1.1.1 in /usr/local/lib/python3.10/dist-packages (from scikit-image->MY-basicsr==1.4.2->-r requirements.txt (line 11)) (1.6.0)\n",
            "Requirement already satisfied: mpmath<1.4.0,>=1.1.0 in /usr/local/lib/python3.10/dist-packages (from sympy->torch>=1.7->-r requirements.txt (line 5)) (1.3.0)\n",
            "Requirement already satisfied: absl-py>=0.4 in /usr/local/lib/python3.10/dist-packages (from tb-nightly->new-gfpgan==1.0.1->-r requirements.txt (line 10)) (1.4.0)\n",
            "Requirement already satisfied: grpcio>=1.48.2 in /usr/local/lib/python3.10/dist-packages (from tb-nightly->new-gfpgan==1.0.1->-r requirements.txt (line 10)) (1.64.1)\n",
            "Requirement already satisfied: setuptools>=41.0.0 in /usr/local/lib/python3.10/dist-packages (from tb-nightly->new-gfpgan==1.0.1->-r requirements.txt (line 10)) (67.7.2)\n",
            "Requirement already satisfied: tensorboard-data-server<0.8.0,>=0.7.0 in /usr/local/lib/python3.10/dist-packages (from tb-nightly->new-gfpgan==1.0.1->-r requirements.txt (line 10)) (0.7.2)\n",
            "Requirement already satisfied: werkzeug>=1.0.1 in /usr/local/lib/python3.10/dist-packages (from tb-nightly->new-gfpgan==1.0.1->-r requirements.txt (line 10)) (3.0.3)\n",
            "Requirement already satisfied: importlib-metadata>=6.6.0 in /usr/local/lib/python3.10/dist-packages (from yapf->new-gfpgan==1.0.1->-r requirements.txt (line 10)) (7.1.0)\n",
            "Requirement already satisfied: platformdirs>=3.5.1 in /usr/local/lib/python3.10/dist-packages (from yapf->new-gfpgan==1.0.1->-r requirements.txt (line 10)) (4.2.2)\n",
            "Requirement already satisfied: tomli>=2.0.1 in /usr/local/lib/python3.10/dist-packages (from yapf->new-gfpgan==1.0.1->-r requirements.txt (line 10)) (2.0.1)\n",
            "Requirement already satisfied: smmap<6,>=3.0.1 in /usr/local/lib/python3.10/dist-packages (from gitdb<5,>=4.0.1->gitpython!=3.1.19,<4,>=3.0.7->streamlit->-r requirements.txt (line 8)) (5.0.1)\n",
            "Requirement already satisfied: pyparsing!=3.0.0,!=3.0.1,!=3.0.2,!=3.0.3,<4,>=2.4.2 in /usr/local/lib/python3.10/dist-packages (from httplib2>=0.9.1->gcloud>=0.18.3->pyrebase4->-r requirements.txt (line 12)) (3.1.2)\n",
            "Requirement already satisfied: zipp>=0.5 in /usr/local/lib/python3.10/dist-packages (from importlib-metadata>=6.6.0->yapf->new-gfpgan==1.0.1->-r requirements.txt (line 10)) (3.19.2)\n",
            "Requirement already satisfied: attrs>=22.2.0 in /usr/local/lib/python3.10/dist-packages (from jsonschema>=3.0->altair<6,>=4.0->streamlit->-r requirements.txt (line 8)) (23.2.0)\n",
            "Requirement already satisfied: jsonschema-specifications>=2023.03.6 in /usr/local/lib/python3.10/dist-packages (from jsonschema>=3.0->altair<6,>=4.0->streamlit->-r requirements.txt (line 8)) (2023.12.1)\n",
            "Requirement already satisfied: referencing>=0.28.4 in /usr/local/lib/python3.10/dist-packages (from jsonschema>=3.0->altair<6,>=4.0->streamlit->-r requirements.txt (line 8)) (0.35.1)\n",
            "Requirement already satisfied: rpds-py>=0.7.1 in /usr/local/lib/python3.10/dist-packages (from jsonschema>=3.0->altair<6,>=4.0->streamlit->-r requirements.txt (line 8)) (0.18.1)\n",
            "Requirement already satisfied: cryptography>=3.4 in /usr/local/lib/python3.10/dist-packages (from jwcrypto>=1.4.2->python-jwt>=2.0.1->pyrebase4->-r requirements.txt (line 12)) (42.0.8)\n",
            "Requirement already satisfied: mdurl~=0.1 in /usr/local/lib/python3.10/dist-packages (from markdown-it-py>=2.2.0->rich<14,>=10.14.0->streamlit->-r requirements.txt (line 8)) (0.1.2)\n",
            "Requirement already satisfied: beautifulsoup4>=4.7.0 in /usr/local/lib/python3.10/dist-packages (from favicon->markdownlit>=0.0.5->streamlit-extras->-r requirements.txt (line 13)) (4.12.3)\n",
            "Requirement already satisfied: contourpy>=1.0.1 in /usr/local/lib/python3.10/dist-packages (from matplotlib->streamlit-faker>=0.0.2->streamlit-extras->-r requirements.txt (line 13)) (1.2.1)\n",
            "Requirement already satisfied: cycler>=0.10 in /usr/local/lib/python3.10/dist-packages (from matplotlib->streamlit-faker>=0.0.2->streamlit-extras->-r requirements.txt (line 13)) (0.12.1)\n",
            "Requirement already satisfied: fonttools>=4.22.0 in /usr/local/lib/python3.10/dist-packages (from matplotlib->streamlit-faker>=0.0.2->streamlit-extras->-r requirements.txt (line 13)) (4.53.0)\n",
            "Requirement already satisfied: kiwisolver>=1.0.1 in /usr/local/lib/python3.10/dist-packages (from matplotlib->streamlit-faker>=0.0.2->streamlit-extras->-r requirements.txt (line 13)) (1.4.5)\n",
            "Requirement already satisfied: soupsieve>1.2 in /usr/local/lib/python3.10/dist-packages (from beautifulsoup4>=4.7.0->favicon->markdownlit>=0.0.5->streamlit-extras->-r requirements.txt (line 13)) (2.5)\n",
            "Requirement already satisfied: cffi>=1.12 in /usr/local/lib/python3.10/dist-packages (from cryptography>=3.4->jwcrypto>=1.4.2->python-jwt>=2.0.1->pyrebase4->-r requirements.txt (line 12)) (1.16.0)\n",
            "Requirement already satisfied: pycparser in /usr/local/lib/python3.10/dist-packages (from cffi>=1.12->cryptography>=3.4->jwcrypto>=1.4.2->python-jwt>=2.0.1->pyrebase4->-r requirements.txt (line 12)) (2.22)\n"
          ]
        }
      ]
    },
    {
      "cell_type": "markdown",
      "source": [
        "# 2. Upload Images\n",
        "\n",
        "# **Click on the link given**\n",
        "Example :\n",
        "  * NgrokTunnel: \"https://x-x-x-x-x.ngrok-free.app \"\n",
        "\n",
        "Then click **Visit Site**"
      ],
      "metadata": {
        "id": "u1Rov7753t86"
      }
    },
    {
      "cell_type": "code",
      "source": [
        "#@title Ngrok Public Link\n",
        "from pyngrok import ngrok\n",
        "# Set up ngrok\n",
        "ngrok.set_auth_token(\"2iGg2l1JGx7tznan8GQg940lB1h_Mnw7vfcyBc43SgDoSncv\")\n",
        "\n",
        "# Run Streamlit app in the background\n",
        "get_ipython().system_raw('streamlit run main.py --server.port 8501 &')\n",
        "\n",
        "# Expose the Streamlit app via ngrok\n",
        "public_url = ngrok.connect(8501)\n",
        "print(f'Public URL: {public_url}')"
      ],
      "metadata": {
        "execution": {
          "iopub.status.busy": "2024-06-23T07:43:47.360616Z",
          "iopub.execute_input": "2024-06-23T07:43:47.361033Z",
          "iopub.status.idle": "2024-06-23T07:43:48.409283Z",
          "shell.execute_reply.started": "2024-06-23T07:43:47.36099Z",
          "shell.execute_reply": "2024-06-23T07:43:48.408206Z"
        },
        "trusted": true,
        "id": "JkTCnSljSlES",
        "outputId": "fe894a42-be16-41af-e1f7-9f5eeae3f8d0",
        "colab": {
          "base_uri": "https://localhost:8080/"
        },
        "cellView": "form",
        "collapsed": true
      },
      "execution_count": 6,
      "outputs": [
        {
          "output_type": "stream",
          "name": "stdout",
          "text": [
            "Public URL: NgrokTunnel: \"https://e28d-34-143-152-138.ngrok-free.app\" -> \"http://localhost:8501\"\n"
          ]
        }
      ]
    }
  ]
}