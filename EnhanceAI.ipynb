{
  "metadata": {
    "kernelspec": {
      "display_name": "Python 3",
      "name": "python3"
    },
    "language_info": {
      "name": "python",
      "version": "3.10.13",
      "mimetype": "text/x-python",
      "codemirror_mode": {
        "name": "ipython",
        "version": 3
      },
      "pygments_lexer": "ipython3",
      "nbconvert_exporter": "python",
      "file_extension": ".py"
    },
    "kaggle": {
      "accelerator": "nvidiaTeslaT4",
      "dataSources": [],
      "dockerImageVersionId": 30733,
      "isInternetEnabled": true,
      "language": "python",
      "sourceType": "notebook",
      "isGpuEnabled": true
    },
    "colab": {
      "name": "EnhanceAI",
      "provenance": [],
      "gpuType": "T4",
      "include_colab_link": true
    },
    "accelerator": "GPU"
  },
  "nbformat_minor": 0,
  "nbformat": 4,
  "cells": [
    {
      "cell_type": "markdown",
      "metadata": {
        "id": "view-in-github",
        "colab_type": "text"
      },
      "source": [
        "<a href=\"https://colab.research.google.com/github/WhosMeor/EnhanceAI/blob/main/EnhanceAI.ipynb\" target=\"_parent\"><img src=\"https://colab.research.google.com/assets/colab-badge.svg\" alt=\"Open In Colab\"/></a>"
      ]
    },
    {
      "cell_type": "markdown",
      "source": [
        "# Image Enhancement Web App (EnhanceAI)\n",
        "\n",
        "[![GitHub Stars](https://img.shields.io/github/stars/WhosMeor/EnhanceAI?style=social)](https://github.com/WhosMeor/EnhanceAI)\n",
        "[![download](https://img.shields.io/github/downloads/WhosMeor/EnhanceAI/total.svg)](https://github.com/WhosMeor/EnhanceAI/releases)\n",
        "\n",
        "This is an **Image Enhancement Web App** developed for my Final Year Project.\n",
        "We use the powerful Real-ESRGAN to a easy to use web application (namely, EnhanceAI). <br>\n",
        "The following figure shows the Enhancement page for the web app.\n",
        "\n",
        "<img src=\"https://raw.githubusercontent.com/WhosMeor/EnhanceAI/main/assets/EnhancementPage.PNG\" width=\"100%\">\n",
        "\n",
        "\n",
        "**Note that the Web App is still in development may discover bugs in the process.**<br>\n",
        "Moreover, the **performance depends on the machine that operate the web app**, which need GPU accelerator to perform well.\n",
        "<br>\n",
        "<br>\n",
        "Please take a few minutes to complete this survey. Your feedback is valuable to help us improve our app and provide a better user experience. Thank you for your participation!  [Image Enhancement Web App (EnhanceAI) Survey](https://forms.gle/RMvGaDG1CzDaeJzm8)."
      ],
      "metadata": {
        "id": "EHcXYT-vvt5o"
      }
    },
    {
      "cell_type": "markdown",
      "source": [
        "# 1. Preparations\n",
        "Before start, make sure that you choose\n",
        "* Runtime Type = Python 3\n",
        "* Hardware Accelerator = GPU\n",
        "\n",
        "in the **Runtime** menu -> **Change runtime type**\n",
        "\n",
        "Then, we clone the repository, set up the envrironment.\n",
        "\n",
        "# 2. Run the codes\n",
        "\n",
        "# **Press CTRL+F9**\n",
        "  * Or in the **Runtime** menu -> **Run All**"
      ],
      "metadata": {
        "id": "7d82CwZv2Ez3"
      }
    },
    {
      "cell_type": "code",
      "source": [
        "#@title Git Clone Repo\n",
        "!git clone https://github.com/WhosMeor/EnhanceAI"
      ],
      "metadata": {
        "_uuid": "8f2839f25d086af736a60e9eeb907d3b93b6e0e5",
        "_cell_guid": "b1076dfc-b9ad-4769-8c92-a6c4dae69d19",
        "_kg_hide-input": true,
        "_kg_hide-output": true,
        "execution": {
          "iopub.status.busy": "2024-06-23T07:43:12.930645Z",
          "iopub.execute_input": "2024-06-23T07:43:12.931043Z",
          "iopub.status.idle": "2024-06-23T07:43:16.522153Z",
          "shell.execute_reply.started": "2024-06-23T07:43:12.931009Z",
          "shell.execute_reply": "2024-06-23T07:43:16.521045Z"
        },
        "trusted": true,
        "id": "kYNuIQnQSlEO",
        "collapsed": true,
        "cellView": "form"
      },
      "execution_count": null,
      "outputs": []
    },
    {
      "cell_type": "markdown",
      "source": [
        "# 3. Download Dependencies\n",
        "\n",
        "This process may take some time depends on the internet speed."
      ],
      "metadata": {
        "id": "uLPge3HV3KwQ"
      }
    },
    {
      "cell_type": "code",
      "source": [
        "#@title Installing Dependencies\n",
        "%cd EnhanceAI\n",
        "!pip install -r requirements.txt"
      ],
      "metadata": {
        "_kg_hide-output": true,
        "_kg_hide-input": true,
        "execution": {
          "iopub.status.busy": "2024-06-23T07:43:16.524042Z",
          "iopub.execute_input": "2024-06-23T07:43:16.524354Z",
          "iopub.status.idle": "2024-06-23T07:43:47.358938Z",
          "shell.execute_reply.started": "2024-06-23T07:43:16.524325Z",
          "shell.execute_reply": "2024-06-23T07:43:47.35774Z"
        },
        "trusted": true,
        "id": "mCxH-b48SlER",
        "collapsed": true,
        "cellView": "form"
      },
      "execution_count": null,
      "outputs": []
    },
    {
      "cell_type": "markdown",
      "source": [
        "# 2. Upload Images\n",
        "\n",
        "# **Click on the link given**\n",
        "Example :\n",
        "  * NgrokTunnel: \"https://x-x-x-x-x.ngrok-free.app \""
      ],
      "metadata": {
        "id": "u1Rov7753t86"
      }
    },
    {
      "cell_type": "code",
      "source": [
        "#@title Ngrok Public Link\n",
        "from pyngrok import ngrok\n",
        "# Set up ngrok\n",
        "ngrok.set_auth_token(\"2iGg2l1JGx7tznan8GQg940lB1h_Mnw7vfcyBc43SgDoSncv\")\n",
        "\n",
        "# Run Streamlit app in the background\n",
        "get_ipython().system_raw('streamlit run main.py --server.port 8501 &')\n",
        "\n",
        "# Expose the Streamlit app via ngrok\n",
        "public_url = ngrok.connect(8501)\n",
        "print(f'Public URL: {public_url}')"
      ],
      "metadata": {
        "execution": {
          "iopub.status.busy": "2024-06-23T07:43:47.360616Z",
          "iopub.execute_input": "2024-06-23T07:43:47.361033Z",
          "iopub.status.idle": "2024-06-23T07:43:48.409283Z",
          "shell.execute_reply.started": "2024-06-23T07:43:47.36099Z",
          "shell.execute_reply": "2024-06-23T07:43:48.408206Z"
        },
        "trusted": true,
        "id": "JkTCnSljSlES",
        "outputId": "5693fd2e-cfae-4595-d15c-728344dfa35e",
        "colab": {
          "base_uri": "https://localhost:8080/"
        },
        "cellView": "form",
        "collapsed": true
      },
      "execution_count": 3,
      "outputs": [
        {
          "output_type": "stream",
          "name": "stdout",
          "text": [
            "Public URL: NgrokTunnel: \"https://b4f0-34-143-152-138.ngrok-free.app\" -> \"http://localhost:8501\"\n"
          ]
        }
      ]
    }
  ]
}