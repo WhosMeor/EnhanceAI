{
  "metadata": {
    "kernelspec": {
      "display_name": "Python 3",
      "name": "python3"
    },
    "language_info": {
      "name": "python",
      "version": "3.10.13",
      "mimetype": "text/x-python",
      "codemirror_mode": {
        "name": "ipython",
        "version": 3
      },
      "pygments_lexer": "ipython3",
      "nbconvert_exporter": "python",
      "file_extension": ".py"
    },
    "kaggle": {
      "accelerator": "nvidiaTeslaT4",
      "dataSources": [],
      "dockerImageVersionId": 30733,
      "isInternetEnabled": true,
      "language": "python",
      "sourceType": "notebook",
      "isGpuEnabled": true
    },
    "colab": {
      "name": "EnhanceAI",
      "provenance": [],
      "gpuType": "T4",
      "include_colab_link": true
    },
    "accelerator": "GPU"
  },
  "nbformat_minor": 0,
  "nbformat": 4,
  "cells": [
    {
      "cell_type": "markdown",
      "metadata": {
        "id": "view-in-github",
        "colab_type": "text"
      },
      "source": [
        "<a href=\"https://colab.research.google.com/github/WhosMeor/EnhanceAI/blob/main/EnhanceAI.ipynb\" target=\"_parent\"><img src=\"https://colab.research.google.com/assets/colab-badge.svg\" alt=\"Open In Colab\"/></a>"
      ]
    },
    {
      "cell_type": "code",
      "source": [
        "!git clone https://github.com/WhosMeor/EnhanceAI"
      ],
      "metadata": {
        "_uuid": "8f2839f25d086af736a60e9eeb907d3b93b6e0e5",
        "_cell_guid": "b1076dfc-b9ad-4769-8c92-a6c4dae69d19",
        "_kg_hide-input": true,
        "_kg_hide-output": true,
        "execution": {
          "iopub.status.busy": "2024-06-23T07:43:12.930645Z",
          "iopub.execute_input": "2024-06-23T07:43:12.931043Z",
          "iopub.status.idle": "2024-06-23T07:43:16.522153Z",
          "shell.execute_reply.started": "2024-06-23T07:43:12.931009Z",
          "shell.execute_reply": "2024-06-23T07:43:16.521045Z"
        },
        "trusted": true,
        "id": "kYNuIQnQSlEO"
      },
      "execution_count": null,
      "outputs": []
    },
    {
      "cell_type": "code",
      "source": [
        "%cd EnhanceAI\n",
        "!pip install -r requirements.txt"
      ],
      "metadata": {
        "_kg_hide-output": true,
        "_kg_hide-input": true,
        "execution": {
          "iopub.status.busy": "2024-06-23T07:43:16.524042Z",
          "iopub.execute_input": "2024-06-23T07:43:16.524354Z",
          "iopub.status.idle": "2024-06-23T07:43:47.358938Z",
          "shell.execute_reply.started": "2024-06-23T07:43:16.524325Z",
          "shell.execute_reply": "2024-06-23T07:43:47.35774Z"
        },
        "trusted": true,
        "id": "mCxH-b48SlER"
      },
      "execution_count": null,
      "outputs": []
    },
    {
      "cell_type": "code",
      "source": [
        "from pyngrok import ngrok\n",
        "# Set up ngrok\n",
        "ngrok.set_auth_token(\"2iGg2l1JGx7tznan8GQg940lB1h_Mnw7vfcyBc43SgDoSncv\")\n",
        "\n",
        "# Run Streamlit app in the background\n",
        "get_ipython().system_raw('streamlit run main.py --server.port 8501 &')\n",
        "\n",
        "# Expose the Streamlit app via ngrok\n",
        "public_url = ngrok.connect(8501)\n",
        "print(f'Public URL: {public_url}')"
      ],
      "metadata": {
        "execution": {
          "iopub.status.busy": "2024-06-23T07:43:47.360616Z",
          "iopub.execute_input": "2024-06-23T07:43:47.361033Z",
          "iopub.status.idle": "2024-06-23T07:43:48.409283Z",
          "shell.execute_reply.started": "2024-06-23T07:43:47.36099Z",
          "shell.execute_reply": "2024-06-23T07:43:48.408206Z"
        },
        "trusted": true,
        "id": "JkTCnSljSlES"
      },
      "execution_count": null,
      "outputs": []
    }
  ]
}